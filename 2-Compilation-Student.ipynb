{
 "cells": [
  {
   "cell_type": "markdown",
   "metadata": {},
   "source": [
    "# Compilation\n"
   ]
  },
  {
   "cell_type": "markdown",
   "metadata": {},
   "source": [
    "Just like qubit-based quantum computations can be decomposed into elementary one- and two-qubit gates, arbitrary continuous-variable operations can be decomposed into gates such as two-mode beamsplitters and single-mode rotations. In these exercises, you will learn how to perform such *compilation* using the tools in Strawberry Fields, including how to compile programs to run on Xanadu hardware. "
   ]
  },
  {
   "cell_type": "markdown",
   "metadata": {},
   "source": [
    "**Exercise 1.** Using a tool of your choice, generate a random 8 x 8 unitary matrix. (This is available directly in Strawberry Fields, but you can also use other libraries."
   ]
  },
  {
   "cell_type": "code",
   "execution_count": null,
   "metadata": {},
   "outputs": [],
   "source": [
    "import numpy as np\n",
    "import strawberryfields as sf\n",
    "from strawberryfields import ops\n"
   ]
  },
  {
   "cell_type": "markdown",
   "metadata": {},
   "source": [
    "**Exercise 2.** Write a program that applies your unitary to 8 modes using the `Interferometer` operation, then measures the outcome in the Fock basis. Print out the execution of your program using `prog.print()`."
   ]
  },
  {
   "cell_type": "code",
   "execution_count": null,
   "metadata": {},
   "outputs": [],
   "source": []
  },
  {
   "cell_type": "markdown",
   "metadata": {},
   "source": [
    "From this description, it's very hard to tell how this will look when implemented in practice!"
   ]
  },
  {
   "cell_type": "markdown",
   "metadata": {},
   "source": [
    "**Exercise 3.** [Compile](https://strawberryfields.readthedocs.io/en/stable/introduction/circuits.html#compilation) your program using the `fock` compiler, and print the output."
   ]
  },
  {
   "cell_type": "code",
   "execution_count": null,
   "metadata": {},
   "outputs": [],
   "source": []
  },
  {
   "cell_type": "markdown",
   "metadata": {},
   "source": [
    "Everything has turned into beamsplitters and rotation gates! This is *definitely* not something you would want to do by hand, so compilers are a very valuable tool!\n",
    "\n",
    "*Tip: You might have noticed there are some interesting patterns in which modes the beamsplitters are applied to. There are multiple ways to decompose an arbitrary unitary. The default method in Strawberry Fields is a rectangular mesh of beamsplitters, as detailed in the [docs for `Interferometer`](https://strawberryfields.readthedocs.io/en/stable/code/api/strawberryfields.ops.Interferometer.html).  Try switching to a triangular mesh and see how the pattern changes!*"
   ]
  },
  {
   "cell_type": "markdown",
   "metadata": {},
   "source": [
    "Now, this kind of decomposition works in theory. But in practice, the hardware may not be set up in such as way as to implement these particular arrangements of beamsplitters. For example, Xanadu's X8 device performs a sequence of operations of a prescribed form:\n",
    "\n",
    "<img src=\"X8.png\" width=600>"
   ]
  },
  {
   "cell_type": "markdown",
   "metadata": {},
   "source": [
    "We not only need general-purpose compilers, but we also need device-specific compilers to ensure we can run on our hardware."
   ]
  },
  {
   "cell_type": "markdown",
   "metadata": {},
   "source": [
    "**Exercise 4.** Design your own circuit to run on the X8 device! You'll need:\n",
    "\n",
    " - parameters for the two-mode squeezers ($r_0, r_1, r_2, r_3$) - these must be either 1.0 or 0.0\n",
    " - a 4x4 unitary operation (note that the same unitary is applied to both sets of modes)\n",
    " \n",
    "Then, compile your program using the [`Xunitary`](https://strawberryfields.readthedocs.io/en/stable/code/api/strawberryfields.compilers.Xunitary.html) compiler. This will compile the program to a form compatible for the X class of chips, but without the need for device access (this we'll do in the next exercise, and you'll need an API key for that). Notice anything different from the compilation above? Which gates are being used?"
   ]
  },
  {
   "cell_type": "code",
   "execution_count": null,
   "metadata": {},
   "outputs": [],
   "source": []
  },
  {
   "cell_type": "markdown",
   "metadata": {},
   "source": [
    "**Exercise 5.** Now compile your algorithm for the X8, and run your algorithm on the hardware!"
   ]
  },
  {
   "cell_type": "code",
   "execution_count": null,
   "metadata": {},
   "outputs": [],
   "source": []
  }
 ],
 "metadata": {
  "kernelspec": {
   "display_name": "Python 3 (ipykernel)",
   "language": "python",
   "name": "python3"
  },
  "language_info": {
   "codemirror_mode": {
    "name": "ipython",
    "version": 3
   },
   "file_extension": ".py",
   "mimetype": "text/x-python",
   "name": "python",
   "nbconvert_exporter": "python",
   "pygments_lexer": "ipython3",
   "version": "3.9.5"
  }
 },
 "nbformat": 4,
 "nbformat_minor": 4
}

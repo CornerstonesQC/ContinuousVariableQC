{
 "cells": [
  {
   "cell_type": "markdown",
   "metadata": {},
   "source": [
    "# Compilation\n"
   ]
  },
  {
   "cell_type": "markdown",
   "metadata": {},
   "source": [
    "Just like qubit-based quantum computations can be decomposed into elementary one- and two-qubit gates, arbitrary continuous-variable operations can be decomposed into gates such as two-mode beamsplitters and single-mode rotations. In these exercises, you will learn how to perform such *compilation* using the tools in Strawberry Fields, including how to compile programs to run on Xanadu hardware. "
   ]
  },
  {
   "cell_type": "markdown",
   "metadata": {},
   "source": [
    "**Exercise 1.** Using a tool of your choice, generate a random 8 x 8 unitary matrix. (This is available directly in Strawberry Fields, but you can also use other libraries."
   ]
  },
  {
   "cell_type": "code",
   "execution_count": 1,
   "metadata": {},
   "outputs": [
    {
     "name": "stderr",
     "output_type": "stream",
     "text": [
      "2021-07-30 11:04:36.786267: W tensorflow/stream_executor/platform/default/dso_loader.cc:64] Could not load dynamic library 'libcudart.so.11.0'; dlerror: libcudart.so.11.0: cannot open shared object file: No such file or directory\n",
      "2021-07-30 11:04:36.786286: I tensorflow/stream_executor/cuda/cudart_stub.cc:29] Ignore above cudart dlerror if you do not have a GPU set up on your machine.\n"
     ]
    }
   ],
   "source": [
    "import numpy as np\n",
    "import strawberryfields as sf\n",
    "from strawberryfields import ops\n",
    "\n",
    "U = sf.utils.random_interferometer(8)"
   ]
  },
  {
   "cell_type": "markdown",
   "metadata": {},
   "source": [
    "**Exercise 2.** Write a program that applies your unitary to 8 modes using the `Interferometer` operation, then measures the outcome in the Fock basis. Print out the execution of your program using `prog.print()`."
   ]
  },
  {
   "cell_type": "code",
   "execution_count": 2,
   "metadata": {},
   "outputs": [],
   "source": [
    "prog = sf.Program(8)\n",
    "\n",
    "with prog.context as q:\n",
    "    ops.Interferometer(U) | q\n",
    "    ops.MeasureFock() | q"
   ]
  },
  {
   "cell_type": "code",
   "execution_count": 3,
   "metadata": {},
   "outputs": [
    {
     "name": "stdout",
     "output_type": "stream",
     "text": [
      "Interferometer([[-7.1626e-02+0.0966j -5.1517e-02+0.1693j -1.4009e-01-0.5638j\n",
      "  -1.6298e-01-0.051j   1.5309e-01-0.5444j -2.0009e-01+0.2816j\n",
      "  -5.3470e-04-0.254j  -2.8875e-01+0.0216j]\n",
      " [-2.4115e-01+0.0388j  4.0037e-01-0.1916j  3.3270e-02+0.0107j\n",
      "   2.8802e-02+0.04j   -2.6493e-02-0.1613j -7.3141e-02-0.0345j\n",
      "  -5.4438e-01+0.205j  -8.8481e-02-0.6002j]\n",
      " [-5.8923e-01+0.2309j  3.1642e-01-0.272j   4.0586e-02+0.0214j\n",
      "  -1.3058e-01+0.0157j -2.6301e-01-0.035j  -9.7365e-03-0.1496j\n",
      "   4.6540e-01-0.2995j  7.0252e-02+0.0431j]\n",
      " [-4.2811e-02-0.1581j -2.4550e-01+0.0502j -1.6712e-01+0.0588j\n",
      "   4.4143e-01-0.2049j -1.0854e-01-0.1244j  3.2878e-01-0.4245j\n",
      "   1.4041e-02-0.3545j -3.8573e-01-0.2279j]\n",
      " [ 7.4000e-02+0.419j  -9.3672e-02+0.1028j -4.2774e-01+0.3764j\n",
      "  -1.5994e-01-0.3429j  2.9370e-01-0.2377j -2.8002e-02-0.0806j\n",
      "   2.1805e-01+0.1659j  2.0117e-01-0.2573j]\n",
      " [ 1.4668e-01-0.1357j -9.5039e-03+0.0571j -2.4766e-01-0.0671j\n",
      "   3.8473e-01+0.139j  -3.2841e-01-0.0106j -7.0697e-01-0.0793j\n",
      "   2.2300e-01+0.0564j  1.5811e-01-0.1777j]\n",
      " [-1.8110e-01+0.0716j -4.6471e-01+0.2955j  1.8826e-01-0.2224j\n",
      "  -2.5737e-01-0.1705j -5.1499e-01+0.085j   1.3382e-01+0.0655j\n",
      "  -6.2457e-03+0.1624j  2.1328e-01-0.3347j]\n",
      " [ 4.6102e-01+0.1647j  4.5259e-01-0.0626j  1.7702e-01-0.3479j\n",
      "   1.6383e-01-0.5307j -1.8051e-01+0.0041j  1.6022e-01-0.0461j\n",
      "   1.0035e-01+0.021j   1.4057e-01+0.0089j]]) | (q[0], q[1], q[2], q[3], q[4], q[5], q[6], q[7])\n",
      "MeasureFock | (q[0], q[1], q[2], q[3], q[4], q[5], q[6], q[7])\n"
     ]
    }
   ],
   "source": [
    "prog.print()"
   ]
  },
  {
   "cell_type": "markdown",
   "metadata": {},
   "source": [
    "From this description, it's very hard to tell how this will look when implemented in practice!"
   ]
  },
  {
   "cell_type": "markdown",
   "metadata": {},
   "source": [
    "**Exercise 3.** [Compile](https://strawberryfields.readthedocs.io/en/stable/introduction/circuits.html#compilation) your program using the `fock` compiler, and print the output."
   ]
  },
  {
   "cell_type": "code",
   "execution_count": 4,
   "metadata": {},
   "outputs": [],
   "source": [
    "prog2 = prog.compile(compiler=\"fock\")"
   ]
  },
  {
   "cell_type": "code",
   "execution_count": 5,
   "metadata": {},
   "outputs": [
    {
     "name": "stdout",
     "output_type": "stream",
     "text": [
      "Rgate(0.4807) | (q[0])\n",
      "BSgate(0.8199, 0) | (q[0], q[1])\n",
      "Rgate(1.388) | (q[2])\n",
      "BSgate(0.312, 0) | (q[2], q[3])\n",
      "Rgate(2.823) | (q[1])\n",
      "BSgate(1.088, 0) | (q[1], q[2])\n",
      "Rgate(-0.6411) | (q[0])\n",
      "BSgate(0.7177, 0) | (q[0], q[1])\n",
      "Rgate(0.3256) | (q[4])\n",
      "BSgate(0.2993, 0) | (q[4], q[5])\n",
      "Rgate(1.877) | (q[3])\n",
      "BSgate(1.223, 0) | (q[3], q[4])\n",
      "Rgate(-1.496) | (q[2])\n",
      "BSgate(1.533, 0) | (q[2], q[3])\n",
      "Rgate(-2.696) | (q[1])\n",
      "BSgate(0.8028, 0) | (q[1], q[2])\n",
      "Rgate(-0.3495) | (q[0])\n",
      "BSgate(1.084, 0) | (q[0], q[1])\n",
      "Rgate(-1.498) | (q[6])\n",
      "BSgate(0.8507, 0) | (q[6], q[7])\n",
      "Rgate(-0.3996) | (q[5])\n",
      "BSgate(1.043, 0) | (q[5], q[6])\n",
      "Rgate(1.013) | (q[4])\n",
      "BSgate(1.307, 0) | (q[4], q[5])\n",
      "Rgate(2.449) | (q[3])\n",
      "BSgate(1.216, 0) | (q[3], q[4])\n",
      "Rgate(-2.14) | (q[2])\n",
      "BSgate(0.9308, 0) | (q[2], q[3])\n",
      "Rgate(-0.5946) | (q[1])\n",
      "BSgate(0.9157, 0) | (q[1], q[2])\n",
      "Rgate(-1.396) | (q[0])\n",
      "BSgate(0.8857, 0) | (q[0], q[1])\n",
      "Rgate(6.208) | (q[0])\n",
      "Rgate(1.174) | (q[1])\n",
      "Rgate(2.109) | (q[2])\n",
      "Rgate(1.906) | (q[3])\n",
      "Rgate(5.511) | (q[4])\n",
      "Rgate(1.843) | (q[5])\n",
      "Rgate(4.827) | (q[6])\n",
      "Rgate(5.711) | (q[7])\n",
      "BSgate(-1.447, 0) | (q[6], q[7])\n",
      "Rgate(2.718) | (q[6])\n",
      "BSgate(-1.459, 0) | (q[5], q[6])\n",
      "Rgate(-0.8784) | (q[5])\n",
      "BSgate(-1.389, 0) | (q[4], q[5])\n",
      "Rgate(-2.497) | (q[4])\n",
      "BSgate(-1.375, 0) | (q[3], q[4])\n",
      "Rgate(-2.661) | (q[3])\n",
      "BSgate(-1.554, 0) | (q[2], q[3])\n",
      "Rgate(-1.51) | (q[2])\n",
      "BSgate(-1.058, 0) | (q[1], q[2])\n",
      "Rgate(-2.75) | (q[1])\n",
      "BSgate(-0.9146, 0) | (q[6], q[7])\n",
      "Rgate(0.09405) | (q[6])\n",
      "BSgate(-1.204, 0) | (q[5], q[6])\n",
      "Rgate(-1.439) | (q[5])\n",
      "BSgate(-1.091, 0) | (q[4], q[5])\n",
      "Rgate(1.951) | (q[4])\n",
      "BSgate(-1.47, 0) | (q[3], q[4])\n",
      "Rgate(-2.529) | (q[3])\n",
      "BSgate(-1.073, 0) | (q[6], q[7])\n",
      "Rgate(-0.4291) | (q[6])\n",
      "BSgate(-1.001, 0) | (q[5], q[6])\n",
      "Rgate(2.301) | (q[5])\n",
      "MeasureFock | (q[0], q[1], q[2], q[3], q[4], q[5], q[6], q[7])\n"
     ]
    }
   ],
   "source": [
    "prog2.print()"
   ]
  },
  {
   "cell_type": "markdown",
   "metadata": {},
   "source": [
    "Everything has turned into beamsplitters and rotation gates! This is *definitely* not something you would want to do by hand, so compilers are a very valuable tool!\n",
    "\n",
    "*Tip: You might have noticed there are some interesting patterns in which modes the beamsplitters are applied to. There are multiple ways to decompose an arbitrary unitary. The default method in Strawberry Fields is a rectangular mesh of beamsplitters, as detailed in the [docs for `Interferometer`](https://strawberryfields.readthedocs.io/en/stable/code/api/strawberryfields.ops.Interferometer.html).  Try switching to a triangular mesh and see how the pattern changes!*"
   ]
  },
  {
   "cell_type": "markdown",
   "metadata": {},
   "source": [
    "Now, this kind of decomposition works in theory. But in practice, the hardware may not be set up in such as way as to implement these particular arrangements of beamsplitters. For example, Xanadu's X8 device performs a sequence of operations of a prescribed form:\n",
    "\n",
    "<img src=\"X8.png\" width=600>"
   ]
  },
  {
   "cell_type": "markdown",
   "metadata": {},
   "source": [
    "We not only need general-purpose compilers, but we also need device-specific compilers to ensure we can run on our hardware."
   ]
  },
  {
   "cell_type": "markdown",
   "metadata": {},
   "source": [
    "**Exercise 4.** Design your own circuit to run on the X8 device! You'll need:\n",
    "\n",
    " - parameters for the two-mode squeezers ($r_0, r_1, r_2, r_3$) - these must be either 1.0 or 0.0\n",
    " - a 4x4 unitary operation (note that the same unitary is applied to both sets of modes)\n",
    " \n",
    "Then, compile your program using the [`Xunitary`](https://strawberryfields.readthedocs.io/en/stable/code/api/strawberryfields.compilers.Xunitary.html) compiler. This will compile the program to a form compatible for the X class of chips, but without the need for device access (this we'll do in the next exercise, and you'll need an API key for that). Notice anything different from the compilation above? Which gates are being used?"
   ]
  },
  {
   "cell_type": "code",
   "execution_count": 6,
   "metadata": {},
   "outputs": [],
   "source": [
    "prog = sf.Program(8, name=\"remote_job1\")\n",
    "\n",
    "U = sf.utils.random_interferometer(4)\n",
    "\n",
    "with prog.context as q:\n",
    "    # Initial squeezed states\n",
    "    # Allowed values are r=1.0 or r=0.0\n",
    "    ops.S2gate(1.0) | (q[0], q[4])\n",
    "    ops.S2gate(1.0) | (q[1], q[5])\n",
    "    ops.S2gate(1.0) | (q[3], q[7])\n",
    "\n",
    "     # Interferometer on the signal modes (0-3)\n",
    "    ops.Interferometer(U) | (q[0], q[1], q[2], q[3])\n",
    "    ops.BSgate(0.543, 0.123) | (q[2], q[0])\n",
    "    ops.Rgate(0.453) | q[1]\n",
    "    ops.MZgate(0.65, -0.54) | (q[2], q[3])\n",
    "\n",
    "    # *Same* interferometer on the idler modes (4-7)\n",
    "    ops.Interferometer(U) | (q[4], q[5], q[6], q[7])\n",
    "    ops.BSgate(0.543, 0.123) | (q[6], q[4])\n",
    "    ops.Rgate(0.453) | q[5]\n",
    "    ops.MZgate(0.65, -0.54) | (q[6], q[7])\n",
    "\n",
    "    ops.MeasureFock() | q"
   ]
  },
  {
   "cell_type": "code",
   "execution_count": 7,
   "metadata": {},
   "outputs": [],
   "source": [
    "prog2 = prog.compile(compiler=\"Xunitary\")"
   ]
  },
  {
   "cell_type": "code",
   "execution_count": 8,
   "metadata": {},
   "outputs": [
    {
     "name": "stdout",
     "output_type": "stream",
     "text": [
      "S2gate(0, 0) | (q[2], q[6])\n",
      "S2gate(1, 0) | (q[0], q[4])\n",
      "S2gate(1, 0) | (q[1], q[5])\n",
      "S2gate(1, 0) | (q[3], q[7])\n",
      "MZgate(0.9447, 4.983) | (q[0], q[1])\n",
      "MZgate(0.9858, 5.029) | (q[2], q[3])\n",
      "MZgate(0.8226, 1.091) | (q[1], q[2])\n",
      "MZgate(1.577, 4.2) | (q[0], q[1])\n",
      "MZgate(0.4071, 3.44) | (q[2], q[3])\n",
      "MZgate(1.656, 4.463) | (q[1], q[2])\n",
      "Rgate(5.457) | (q[0])\n",
      "Rgate(2.368) | (q[1])\n",
      "Rgate(5.603) | (q[2])\n",
      "Rgate(0.04233) | (q[3])\n",
      "MZgate(0.9447, 4.983) | (q[4], q[5])\n",
      "MZgate(0.9858, 5.029) | (q[6], q[7])\n",
      "MZgate(0.8226, 1.091) | (q[5], q[6])\n",
      "MZgate(1.577, 4.2) | (q[4], q[5])\n",
      "MZgate(0.4071, 3.44) | (q[6], q[7])\n",
      "MZgate(1.656, 4.463) | (q[5], q[6])\n",
      "Rgate(5.457) | (q[4])\n",
      "Rgate(2.368) | (q[5])\n",
      "Rgate(5.603) | (q[6])\n",
      "Rgate(0.04233) | (q[7])\n",
      "MeasureFock | (q[0], q[1], q[2], q[3], q[4], q[5], q[6], q[7])\n"
     ]
    }
   ],
   "source": [
    "prog2.print()"
   ]
  },
  {
   "cell_type": "markdown",
   "metadata": {},
   "source": [
    "**Exercise 5.** Now compile your algorithm for the X8, and run your algorithm on the hardware!"
   ]
  },
  {
   "cell_type": "code",
   "execution_count": 10,
   "metadata": {},
   "outputs": [
    {
     "name": "stderr",
     "output_type": "stream",
     "text": [
      "2021-07-30 11:16:32,492 - INFO - The device spec X8_01 has been successfully retrieved.\n",
      "2021-07-30 11:16:32,537 - INFO - Program previously compiled for X8_01 using Xunitary. Validating program against the Xstrict compiler.\n",
      "2021-07-30 11:16:33,109 - INFO - Job 98367db4-f891-4456-adec-c0803f6264ef was successfully submitted.\n",
      "2021-07-30 11:16:45,190 - ERROR - The remote job 98367db4-f891-4456-adec-c0803f6264ef failed due to an internal server error. Please try again. {'error-code': 'device-offline', 'error-detail': 'The requested hardware device is offline. Please try again during regular service hours.'}\n"
     ]
    },
    {
     "ename": "FailedJobError",
     "evalue": "The remote job 98367db4-f891-4456-adec-c0803f6264ef failed due to an internal server error. Please try again. {'error-code': 'device-offline', 'error-detail': 'The requested hardware device is offline. Please try again during regular service hours.'}",
     "output_type": "error",
     "traceback": [
      "\u001b[0;31m---------------------------------------------------------------------------\u001b[0m",
      "\u001b[0;31mFailedJobError\u001b[0m                            Traceback (most recent call last)",
      "\u001b[0;32m/tmp/ipykernel_561247/2085393392.py\u001b[0m in \u001b[0;36m<module>\u001b[0;34m\u001b[0m\n\u001b[1;32m      3\u001b[0m \u001b[0mprog2\u001b[0m \u001b[0;34m=\u001b[0m \u001b[0mprog\u001b[0m\u001b[0;34m.\u001b[0m\u001b[0mcompile\u001b[0m\u001b[0;34m(\u001b[0m\u001b[0mdevice\u001b[0m\u001b[0;34m=\u001b[0m\u001b[0mdevice\u001b[0m\u001b[0;34m)\u001b[0m\u001b[0;34m\u001b[0m\u001b[0;34m\u001b[0m\u001b[0m\n\u001b[1;32m      4\u001b[0m \u001b[0;34m\u001b[0m\u001b[0m\n\u001b[0;32m----> 5\u001b[0;31m \u001b[0mresults\u001b[0m \u001b[0;34m=\u001b[0m \u001b[0meng\u001b[0m\u001b[0;34m.\u001b[0m\u001b[0mrun\u001b[0m\u001b[0;34m(\u001b[0m\u001b[0mprog2\u001b[0m\u001b[0;34m,\u001b[0m \u001b[0mshots\u001b[0m\u001b[0;34m=\u001b[0m\u001b[0;36m20\u001b[0m\u001b[0;34m)\u001b[0m\u001b[0;34m\u001b[0m\u001b[0;34m\u001b[0m\u001b[0m\n\u001b[0m\u001b[1;32m      6\u001b[0m \u001b[0mprint\u001b[0m\u001b[0;34m(\u001b[0m\u001b[0mresults\u001b[0m\u001b[0;34m.\u001b[0m\u001b[0msamples\u001b[0m\u001b[0;34m)\u001b[0m\u001b[0;34m\u001b[0m\u001b[0;34m\u001b[0m\u001b[0m\n",
      "\u001b[0;32m~/anaconda3/envs/xanadu/lib/python3.9/site-packages/strawberryfields/engine.py\u001b[0m in \u001b[0;36mrun\u001b[0;34m(self, program, compile_options, recompile, **kwargs)\u001b[0m\n\u001b[1;32m    627\u001b[0m                     \u001b[0mself\u001b[0m\u001b[0;34m.\u001b[0m\u001b[0mlog\u001b[0m\u001b[0;34m.\u001b[0m\u001b[0merror\u001b[0m\u001b[0;34m(\u001b[0m\u001b[0mmessage\u001b[0m\u001b[0;34m)\u001b[0m\u001b[0;34m\u001b[0m\u001b[0;34m\u001b[0m\u001b[0m\n\u001b[1;32m    628\u001b[0m \u001b[0;34m\u001b[0m\u001b[0m\n\u001b[0;32m--> 629\u001b[0;31m                     \u001b[0;32mraise\u001b[0m \u001b[0mFailedJobError\u001b[0m\u001b[0;34m(\u001b[0m\u001b[0mmessage\u001b[0m\u001b[0;34m)\u001b[0m\u001b[0;34m\u001b[0m\u001b[0;34m\u001b[0m\u001b[0m\n\u001b[0m\u001b[1;32m    630\u001b[0m \u001b[0;34m\u001b[0m\u001b[0m\n\u001b[1;32m    631\u001b[0m                 \u001b[0mtime\u001b[0m\u001b[0;34m.\u001b[0m\u001b[0msleep\u001b[0m\u001b[0;34m(\u001b[0m\u001b[0mself\u001b[0m\u001b[0;34m.\u001b[0m\u001b[0mPOLLING_INTERVAL_SECONDS\u001b[0m\u001b[0;34m)\u001b[0m\u001b[0;34m\u001b[0m\u001b[0;34m\u001b[0m\u001b[0m\n",
      "\u001b[0;31mFailedJobError\u001b[0m: The remote job 98367db4-f891-4456-adec-c0803f6264ef failed due to an internal server error. Please try again. {'error-code': 'device-offline', 'error-detail': 'The requested hardware device is offline. Please try again during regular service hours.'}"
     ]
    }
   ],
   "source": [
    "eng = sf.RemoteEngine(\"X8\")\n",
    "device = eng.device_spec\n",
    "prog2 = prog.compile(device=device)\n",
    "\n",
    "results = eng.run(prog2, shots=20)\n",
    "print(results.samples)"
   ]
  },
  {
   "cell_type": "code",
   "execution_count": null,
   "metadata": {},
   "outputs": [],
   "source": []
  }
 ],
 "metadata": {
  "kernelspec": {
   "display_name": "Python 3 (ipykernel)",
   "language": "python",
   "name": "python3"
  },
  "language_info": {
   "codemirror_mode": {
    "name": "ipython",
    "version": 3
   },
   "file_extension": ".py",
   "mimetype": "text/x-python",
   "name": "python",
   "nbconvert_exporter": "python",
   "pygments_lexer": "ipython3",
   "version": "3.9.5"
  }
 },
 "nbformat": 4,
 "nbformat_minor": 4
}

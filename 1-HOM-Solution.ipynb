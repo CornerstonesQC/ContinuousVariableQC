{
 "cells": [
  {
   "cell_type": "markdown",
   "metadata": {},
   "source": [
    "# Getting started in SF: the Hong-Ou-Mandel effect"
   ]
  },
  {
   "cell_type": "markdown",
   "metadata": {},
   "source": [
    "Hong-Ou-Mandel interference is a famous photonic phenomenon in which two photons entering a beamsplitter interfere with each other, affecting the way in which they exit the beamsplitter. In this notebook, you'll practice some Strawberry Fields basics to implement the effect."
   ]
  },
  {
   "cell_type": "markdown",
   "metadata": {},
   "source": [
    "The Hong-Ou-Mandel procedure is fairly straightforward (there is a great in-depth explanation in [this arXiv paper](https://export.arxiv.org/pdf/1711.00080), from which the image below is taken):\n",
    "\n",
    "<img src=\"hom.png\" width=300>"
   ]
  },
  {
   "cell_type": "markdown",
   "metadata": {},
   "source": [
    "Two photons enter a beamsplitter, one in each of two modes, and there are photon detectors at two output modes. Where do the photons end up?"
   ]
  },
  {
   "cell_type": "markdown",
   "metadata": {},
   "source": [
    "**Exercise 1.** Implement the above procedure as a program in Strawberry Fields (i.e., write a program that initializes a single photon in each of two input modes, applies the beamsplitter, and measures the number of photons in the output modes). "
   ]
  },
  {
   "cell_type": "code",
   "execution_count": 1,
   "metadata": {},
   "outputs": [
    {
     "name": "stderr",
     "output_type": "stream",
     "text": [
      "2021-07-30 08:39:50.186040: W tensorflow/stream_executor/platform/default/dso_loader.cc:64] Could not load dynamic library 'libcudart.so.11.0'; dlerror: libcudart.so.11.0: cannot open shared object file: No such file or directory\n",
      "2021-07-30 08:39:50.186058: I tensorflow/stream_executor/cuda/cudart_stub.cc:29] Ignore above cudart dlerror if you do not have a GPU set up on your machine.\n"
     ]
    }
   ],
   "source": [
    "import strawberryfields as sf\n",
    "from strawberryfields import ops\n",
    "\n",
    "prog = sf.Program(2)\n",
    "\n",
    "with prog.context as q:\n",
    "    ops.Fock(1) | q[0]\n",
    "    ops.Fock(1) | q[1]\n",
    "    ops.BSgate() | (q[0], q[1])\n",
    "    ops.MeasureFock() | q"
   ]
  },
  {
   "cell_type": "markdown",
   "metadata": {},
   "source": [
    "**Exercise 2.** Execute your program on the Fock backend, and look at the [output `samples`](https://strawberryfields.readthedocs.io/en/stable/introduction/circuits.html#execution-results)."
   ]
  },
  {
   "cell_type": "code",
   "execution_count": 2,
   "metadata": {},
   "outputs": [],
   "source": [
    "eng = sf.Engine(\"fock\", backend_options={\"cutoff_dim\": 10})"
   ]
  },
  {
   "cell_type": "code",
   "execution_count": 3,
   "metadata": {},
   "outputs": [
    {
     "data": {
      "text/plain": [
       "array([0, 2])"
      ]
     },
     "execution_count": 3,
     "metadata": {},
     "output_type": "execute_result"
    }
   ],
   "source": [
    "result = eng.run(prog)\n",
    "samples = result.samples[0]\n",
    "samples"
   ]
  },
  {
   "cell_type": "markdown",
   "metadata": {},
   "source": [
    "**Exercise 3.** Now, execute your program 10-20 times and look at the samples; where do the photons end up?"
   ]
  },
  {
   "cell_type": "code",
   "execution_count": 4,
   "metadata": {},
   "outputs": [
    {
     "name": "stdout",
     "output_type": "stream",
     "text": [
      "[[0 2]]\n",
      "[[2 0]]\n",
      "[[0 2]]\n",
      "[[0 2]]\n",
      "[[2 0]]\n",
      "[[2 0]]\n",
      "[[0 2]]\n",
      "[[0 2]]\n",
      "[[0 2]]\n",
      "[[2 0]]\n",
      "[[0 2]]\n",
      "[[2 0]]\n",
      "[[2 0]]\n",
      "[[2 0]]\n",
      "[[0 2]]\n",
      "[[0 2]]\n",
      "[[2 0]]\n",
      "[[0 2]]\n",
      "[[0 2]]\n",
      "[[0 2]]\n"
     ]
    }
   ],
   "source": [
    "reps = 20\n",
    "\n",
    "for i in range(reps):\n",
    "    eng.reset()\n",
    "    results = eng.run(prog)\n",
    "    print(results.samples)"
   ]
  },
  {
   "cell_type": "markdown",
   "metadata": {},
   "source": [
    "**Exercise 4.** Now repeat the above, but instead of inputting a single photon into each port, create a *coherent state* with $\\alpha=1$. Run it many times - how do the results differ from the single-photon input case? Why do you think they are different?"
   ]
  },
  {
   "cell_type": "code",
   "execution_count": 5,
   "metadata": {},
   "outputs": [],
   "source": [
    "prog = sf.Program(2)\n",
    "\n",
    "with prog.context as q:\n",
    "    ops.Coherent(1) | q[0]\n",
    "    ops.Coherent(1) | q[1]\n",
    "    ops.BSgate() | (q[0], q[1])\n",
    "    ops.MeasureFock() | q"
   ]
  },
  {
   "cell_type": "code",
   "execution_count": 6,
   "metadata": {},
   "outputs": [
    {
     "name": "stdout",
     "output_type": "stream",
     "text": [
      "[0 2]\n",
      "[0 1]\n",
      "[0 0]\n",
      "[0 3]\n",
      "[0 2]\n",
      "[0 1]\n",
      "[0 1]\n",
      "[0 0]\n",
      "[0 0]\n",
      "[0 2]\n",
      "[0 2]\n",
      "[0 3]\n",
      "[0 1]\n",
      "[0 4]\n",
      "[0 1]\n",
      "[0 0]\n",
      "[0 1]\n",
      "[0 5]\n",
      "[0 2]\n",
      "[0 4]\n"
     ]
    }
   ],
   "source": [
    "reps = 20\n",
    "\n",
    "for i in range(reps):\n",
    "    eng.reset()\n",
    "    results = eng.run(prog)\n",
    "    print(results.samples[0])"
   ]
  },
  {
   "cell_type": "code",
   "execution_count": null,
   "metadata": {},
   "outputs": [],
   "source": []
  }
 ],
 "metadata": {
  "kernelspec": {
   "display_name": "Python 3 (ipykernel)",
   "language": "python",
   "name": "python3"
  },
  "language_info": {
   "codemirror_mode": {
    "name": "ipython",
    "version": 3
   },
   "file_extension": ".py",
   "mimetype": "text/x-python",
   "name": "python",
   "nbconvert_exporter": "python",
   "pygments_lexer": "ipython3",
   "version": "3.9.5"
  }
 },
 "nbformat": 4,
 "nbformat_minor": 4
}

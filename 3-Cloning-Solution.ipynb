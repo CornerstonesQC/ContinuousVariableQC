{
 "cells": [
  {
   "cell_type": "markdown",
   "id": "aff4e3b9-0b2a-48cc-8f18-c76d2b12d7aa",
   "metadata": {},
   "source": [
    "# Approximate cloning "
   ]
  },
  {
   "cell_type": "markdown",
   "id": "f6baa1b9-3f31-4f27-becb-2ba598702e71",
   "metadata": {},
   "source": [
    "The no-cloning theorem prohibits the existence of an algorithm that can make copies of arbitrary quantum states. However, it doesn't make any statements about the (non-)existence of algorithms that can produce something that looks *close* to the original state. In this set of exercises, you will learn how to implement a continuous-variable algorithm for approximately cloning *coherent states*."
   ]
  },
  {
   "cell_type": "markdown",
   "id": "01f3dba7-8d16-4135-855c-114221e069c2",
   "metadata": {},
   "source": [
    "Coherent states are constructed through displacement of the vacuum state. In the Fock basis, they take the form\n",
    "\n",
    "$$\n",
    "\\begin{equation}\n",
    "|\\alpha\\rangle = D(\\alpha)|0\\rangle =  e^{-|\\alpha|^2/2} \\sum_{n=0}^\\infty \\frac{\\alpha^n}{\\sqrt{n!}} |n\\rangle\n",
    "\\end{equation},\n",
    "$$\n",
    "\n",
    "where $\\alpha$ is a complex number."
   ]
  },
  {
   "cell_type": "markdown",
   "id": "fd5df22d-479f-47a6-9aa3-d4d0e28295c8",
   "metadata": {},
   "source": [
    "**Exercise 0.** Choose your favourite complex number and store it in the variable `alpha_0` below. This is the state we will approximately clone."
   ]
  },
  {
   "cell_type": "code",
   "execution_count": 2,
   "id": "220e3d1c-97f1-4557-996d-27c6ca54d885",
   "metadata": {},
   "outputs": [],
   "source": [
    "alpha_0 = 0.5 - 2j"
   ]
  },
  {
   "cell_type": "markdown",
   "id": "ecf0c5b5-bdc4-41e3-857f-9c4ec61b16e4",
   "metadata": {},
   "source": [
    "The circuit for cloning uses four modes:\n",
    "\n",
    "<img src=\"cloning.svg\" width=500>"
   ]
  },
  {
   "cell_type": "markdown",
   "id": "7149564a-4486-4537-9b8a-a040d071572e",
   "metadata": {},
   "source": [
    "Our initial state, $|\\alpha_0\\rangle$ is input into the first mode $q_0$; following interactions with two auxiliary modes $q_1$ and $q_2$, we should wind up with approximate (identical) copies on modes $q_0$ and $q_3$. \n",
    "\n",
    "More specifically, the circuit performs the following:\n",
    " 1. Two 50-50 beamsplitters are applied to modes $(q_0, q_1)$ and modes $(q_1, q_2)$.\n",
    " 2. Mode $q_1$ undergoes homodyne measurement in $X$. The output $u$ is used to control an $X$ displacement, $X(\\sqrt{2}u)$, on $q_0$. \n",
    " 3. Mode $q_2$ undergoes homodyne measurement in $P$. The output $v$ is used to control a $Z$ displacement, $Z(\\sqrt{2}v)$, on $q_0$.\n",
    " 4. A 50-50 beamsplitter is applied between modes $(q_0, q_3)$.\n",
    "\n",
    "Let's implement this circuit, and see what we get!"
   ]
  },
  {
   "cell_type": "markdown",
   "id": "d061258a-afb9-4b40-a17e-ed677acc7fea",
   "metadata": {},
   "source": [
    "**Exercise 1.** Implement the above circuit as a program in Strawberry Fields.\n",
    "\n",
    "If you're not sure what operations to use, head over to the [documentation](https://strawberryfields.readthedocs.io/en/stable/introduction/ops.html), where there is a nice list of operations and measurements. The [guide on creating circuits in Strawberry Fields](https://strawberryfields.readthedocs.io/en/stable/introduction/circuits.html) will also be helpful, in particular for the controlled operations."
   ]
  },
  {
   "cell_type": "code",
   "execution_count": 3,
   "id": "e765a85d-e665-4df1-b3ee-13d964f71803",
   "metadata": {},
   "outputs": [],
   "source": [
    "import strawberryfields as sf\n",
    "from strawberryfields.ops import *\n",
    "import numpy as np\n",
    "\n",
    "gaussian_cloning = sf.Program(4)\n",
    "\n",
    "with gaussian_cloning.context as q:\n",
    "    # state to be cloned\n",
    "    Coherent(np.abs(alpha_0), np.angle(alpha_0)) | q[0]\n",
    "\n",
    "    # 50-50 beamsplitter\n",
    "    BS = BSgate(np.pi/4, 0)\n",
    "\n",
    "    # symmetric Gaussian cloning scheme\n",
    "    BS | (q[0], q[1])\n",
    "    BS | (q[1], q[2])\n",
    "    MeasureX | q[1]\n",
    "    MeasureP | q[2]\n",
    "    Xgate(q[1].par * np.sqrt(2)) | q[0]\n",
    "    Zgate(q[2].par * np.sqrt(2)) | q[0]\n",
    "\n",
    "    # after the final beamsplitter, modes q[0] and q[3]\n",
    "    # will contain identical approximate clones of the\n",
    "    # initial state Coherent(0.1+0j)\n",
    "    BS | (q[0], q[3])"
   ]
  },
  {
   "cell_type": "markdown",
   "id": "f5c635c2-a892-42bf-bd90-0b4e5a592f4c",
   "metadata": {},
   "source": [
    "**Exercise 2.** Run your proram using the Gaussian backend, and extract the results on mode $q_0$ (or mode $q_3$; they should produce identical results!). \n",
    "\n",
    "*Hint*: Investigate the [documentation of the `run` method](https://strawberryfields.readthedocs.io/en/stable/code/api/strawberryfields.Engine.html#strawberryfields.Engine.run) to determine how to obtain results for a subset of modes."
   ]
  },
  {
   "cell_type": "code",
   "execution_count": 13,
   "id": "033f7733-0a8b-47c5-82ce-57245833e803",
   "metadata": {},
   "outputs": [],
   "source": [
    "eng = sf.Engine(backend=\"gaussian\")\n",
    "results = eng.run(gaussian_cloning, modes=[0])"
   ]
  },
  {
   "cell_type": "markdown",
   "id": "cd077586-5ecd-477d-872b-4002835b2fe4",
   "metadata": {},
   "source": [
    "**Exercise 3.** Using the `state` attribute of your results, compute the fidelity between the state you obtained, and your original coherent state. The method [`fidelity_coherent`](https://strawberryfields.readthedocs.io/en/stable/code/api/strawberryfields.backends.BaseState.html#strawberryfields.backends.BaseState.fidelity_coherent) can be called using the state of your results. How high is the fidelity?"
   ]
  },
  {
   "cell_type": "code",
   "execution_count": 14,
   "id": "3ecdc549-b2bb-4f5b-8253-70d2e02f3c2c",
   "metadata": {},
   "outputs": [
    {
     "name": "stdout",
     "output_type": "stream",
     "text": [
      "0.9280188565421659\n"
     ]
    }
   ],
   "source": [
    "fidelity = results.state.fidelity_coherent([alpha_0])\n",
    "print(fidelity)"
   ]
  },
  {
   "cell_type": "markdown",
   "id": "c9eedaff-d84f-431f-ab76-d61edafbc9e7",
   "metadata": {},
   "source": [
    "**Exercise 4.** If you ran this a few times, you may have noticed that the results are probabilistic. Run the experiment 1000 times, and plot the distribution of fidelities; how does it look? What is the average fidelity?"
   ]
  },
  {
   "cell_type": "code",
   "execution_count": 15,
   "id": "0647bade-2382-4007-b854-46ffa456f6c2",
   "metadata": {},
   "outputs": [],
   "source": [
    "reps = 1000\n",
    "f = np.empty([reps])\n",
    "\n",
    "for i in range(reps):\n",
    "    eng.reset()\n",
    "    results = eng.run(gaussian_cloning, modes=[0])\n",
    "    f[i] = results.state.fidelity_coherent([alpha_0])"
   ]
  },
  {
   "cell_type": "code",
   "execution_count": 16,
   "id": "17e38d44-8bf0-428e-a7ec-b55dfb6437ba",
   "metadata": {},
   "outputs": [
    {
     "data": {
      "text/plain": [
       "(array([ 14.,  35.,  67.,  73.,  92.,  98., 116., 145., 180., 180.]),\n",
       " array([0.02145064, 0.11920228, 0.21695393, 0.31470558, 0.41245722,\n",
       "        0.51020887, 0.60796052, 0.70571216, 0.80346381, 0.90121546,\n",
       "        0.9989671 ]),\n",
       " <BarContainer object of 10 artists>)"
      ]
     },
     "execution_count": 16,
     "metadata": {},
     "output_type": "execute_result"
    },
    {
     "data": {
      "image/png": "[encoded data removed]",
      "text/plain": [
       "<Figure size 432x288 with 1 Axes>"
      ]
     },
     "metadata": {
      "needs_background": "light"
     },
     "output_type": "display_data"
    }
   ],
   "source": [
    "import matplotlib.pyplot as plt\n",
    "plt.hist(f)"
   ]
  },
  {
   "cell_type": "markdown",
   "id": "5e6cfb44-6444-4dd6-9cdd-f83e90e1b923",
   "metadata": {},
   "source": [
    "**Exercise 5.** The `state` attribute of the program results also allows you to  extract the $\\alpha$ of the output coherent state (the [displacement](https://strawberryfields.readthedocs.io/en/stable/code/api/strawberryfields.backends.BaseGaussianState.html#strawberryfields.backends.BaseGaussianState.displacement)). Run the program again 1000 times, and this time extract the displacement from each. Plot the real and complex valued parts of the resuls. What is the distribution, and how does it relate to your original $\\alpha_0$?"
   ]
  },
  {
   "cell_type": "code",
   "execution_count": 18,
   "id": "16c8a12d-93af-4081-9f2e-376379ed3df9",
   "metadata": {},
   "outputs": [],
   "source": [
    "reps = 1000\n",
    "a = np.empty([reps], dtype=np.complex64)\n",
    "\n",
    "for i in range(reps):\n",
    "    eng.reset()\n",
    "    results = eng.run(gaussian_cloning, modes=[0])\n",
    "    a[i] = results.state.displacement()"
   ]
  },
  {
   "cell_type": "code",
   "execution_count": 19,
   "id": "8549a436-0997-4773-951b-7ef18d753f89",
   "metadata": {},
   "outputs": [
    {
     "data": {
      "text/plain": [
       "(array([  3.,  12.,  53., 133., 228., 264., 184.,  78.,  36.,   9.]),\n",
       " array([-1.2290835 , -0.8959639 , -0.5628442 , -0.22972457,  0.10339508,\n",
       "         0.43651474,  0.76963437,  1.102754  ,  1.4358737 ,  1.7689934 ,\n",
       "         2.102113  ], dtype=float32),\n",
       " <BarContainer object of 10 artists>)"
      ]
     },
     "execution_count": 19,
     "metadata": {},
     "output_type": "execute_result"
    },
    {
     "data": {
      "image/png": "[encoded data removed]",
      "text/plain": [
       "<Figure size 432x288 with 1 Axes>"
      ]
     },
     "metadata": {
      "needs_background": "light"
     },
     "output_type": "display_data"
    }
   ],
   "source": [
    "plt.hist(a.real)"
   ]
  },
  {
   "cell_type": "code",
   "execution_count": 21,
   "id": "2ee3daf7-3a27-4b52-b409-4ebdb8ba3063",
   "metadata": {},
   "outputs": [
    {
     "data": {
      "text/plain": [
       "(array([  1.,   2.,  17.,  77., 224., 278., 253., 119.,  24.,   5.]),\n",
       " array([-4.0986547 , -3.7263393 , -3.354024  , -2.9817088 , -2.6093934 ,\n",
       "        -2.237078  , -1.8647625 , -1.4924473 , -1.1201319 , -0.7478165 ,\n",
       "        -0.37550113], dtype=float32),\n",
       " <BarContainer object of 10 artists>)"
      ]
     },
     "execution_count": 21,
     "metadata": {},
     "output_type": "execute_result"
    },
    {
     "data": {
      "image/png": "[encoded data removed]",
      "text/plain": [
       "<Figure size 432x288 with 1 Axes>"
      ]
     },
     "metadata": {
      "needs_background": "light"
     },
     "output_type": "display_data"
    }
   ],
   "source": [
    "plt.hist(a.imag)"
   ]
  },
  {
   "cell_type": "code",
   "execution_count": null,
   "id": "04523939-c911-48bc-8608-ddb8b10fcc11",
   "metadata": {},
   "outputs": [],
   "source": []
  }
 ],
 "metadata": {
  "kernelspec": {
   "display_name": "Python 3 (ipykernel)",
   "language": "python",
   "name": "python3"
  },
  "language_info": {
   "codemirror_mode": {
    "name": "ipython",
    "version": 3
   },
   "file_extension": ".py",
   "mimetype": "text/x-python",
   "name": "python",
   "nbconvert_exporter": "python",
   "pygments_lexer": "ipython3",
   "version": "3.9.5"
  }
 },
 "nbformat": 4,
 "nbformat_minor": 5
}

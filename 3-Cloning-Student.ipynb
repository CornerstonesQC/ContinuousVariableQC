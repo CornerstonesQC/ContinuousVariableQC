{
 "cells": [
  {
   "cell_type": "markdown",
   "id": "aff4e3b9-0b2a-48cc-8f18-c76d2b12d7aa",
   "metadata": {},
   "source": [
    "# Approximate cloning "
   ]
  },
  {
   "cell_type": "markdown",
   "id": "f6baa1b9-3f31-4f27-becb-2ba598702e71",
   "metadata": {},
   "source": [
    "The no-cloning theorem prohibits the existence of an algorithm that can make copies of arbitrary quantum states. However, it doesn't make any statements about the (non-)existence of algorithms that can produce something that looks *close* to the original state. In this set of exercises, you will learn how to implement a continuous-variable algorithm for approximately cloning *coherent states*."
   ]
  },
  {
   "cell_type": "markdown",
   "id": "01f3dba7-8d16-4135-855c-114221e069c2",
   "metadata": {},
   "source": [
    "Coherent states are constructed through displacement of the vacuum state. In the Fock basis, they take the form\n",
    "\n",
    "$$\n",
    "\\begin{equation}\n",
    "|\\alpha\\rangle = D(\\alpha)|0\\rangle =  e^{-|\\alpha|^2/2} \\sum_{n=0}^\\infty \\frac{\\alpha^n}{\\sqrt{n!}} |n\\rangle\n",
    "\\end{equation},\n",
    "$$\n",
    "\n",
    "where $\\alpha$ is a complex number."
   ]
  },
  {
   "cell_type": "markdown",
   "id": "fd5df22d-479f-47a6-9aa3-d4d0e28295c8",
   "metadata": {},
   "source": [
    "**Exercise 0.** Choose your favourite complex number and store it in the variable `alpha_0` below. This is the state we will approximately clone."
   ]
  },
  {
   "cell_type": "code",
   "execution_count": null,
   "id": "220e3d1c-97f1-4557-996d-27c6ca54d885",
   "metadata": {},
   "outputs": [],
   "source": [
    "alpha_0 = 0"
   ]
  },
  {
   "cell_type": "markdown",
   "id": "ecf0c5b5-bdc4-41e3-857f-9c4ec61b16e4",
   "metadata": {},
   "source": [
    "The circuit for cloning uses four modes:\n",
    "\n",
    "<img src=\"cloning.svg\" width=500>"
   ]
  },
  {
   "cell_type": "markdown",
   "id": "7149564a-4486-4537-9b8a-a040d071572e",
   "metadata": {},
   "source": [
    "Our initial state, $|\\alpha_0\\rangle$ is input into the first mode $q_0$; following interactions with two auxiliary modes $q_1$ and $q_2$, we should wind up with approximate (identical) copies on modes $q_0$ and $q_3$. \n",
    "\n",
    "More specifically, the circuit performs the following:\n",
    " 1. Two 50-50 beamsplitters are applied to modes $(q_0, q_1)$ and modes $(q_1, q_2)$.\n",
    " 2. Mode $q_1$ undergoes homodyne measurement in $X$. The output $u$ is used to control an $X$ displacement, $X(\\sqrt{2}u)$, on $q_0$. \n",
    " 3. Mode $q_2$ undergoes homodyne measurement in $P$. The output $v$ is used to control a $Z$ displacement, $Z(\\sqrt{2}v)$, on $q_0$.\n",
    " 4. A 50-50 beamsplitter is applied between modes $(q_0, q_3)$.\n",
    "\n",
    "Let's implement this circuit, and see what we get!"
   ]
  },
  {
   "cell_type": "markdown",
   "id": "d061258a-afb9-4b40-a17e-ed677acc7fea",
   "metadata": {},
   "source": [
    "**Exercise 1.** Implement the above circuit as a program in Strawberry Fields.\n",
    "\n",
    "If you're not sure what operations to use, head over to the [documentation](https://strawberryfields.readthedocs.io/en/stable/introduction/ops.html), where there is a nice list of operations and measurements. The [guide on creating circuits in Strawberry Fields](https://strawberryfields.readthedocs.io/en/stable/introduction/circuits.html) will also be helpful, in particular for the controlled operations."
   ]
  },
  {
   "cell_type": "code",
   "execution_count": null,
   "id": "e765a85d-e665-4df1-b3ee-13d964f71803",
   "metadata": {},
   "outputs": [],
   "source": [
    "import strawberryfields as sf\n",
    "from strawberryfields.ops import *\n",
    "import numpy as np\n",
    "\n"
   ]
  },
  {
   "cell_type": "markdown",
   "id": "f5c635c2-a892-42bf-bd90-0b4e5a592f4c",
   "metadata": {},
   "source": [
    "**Exercise 2.** Run your proram using the Gaussian backend, and extract the results on mode $q_0$. \n",
    "\n",
    "*Hint*: Investigate the [documentation of the `run` method](https://strawberryfields.readthedocs.io/en/stable/code/api/strawberryfields.Engine.html#strawberryfields.Engine.run) to determine how to obtain results for a subset of modes."
   ]
  },
  {
   "cell_type": "code",
   "execution_count": null,
   "id": "033f7733-0a8b-47c5-82ce-57245833e803",
   "metadata": {},
   "outputs": [],
   "source": []
  },
  {
   "cell_type": "markdown",
   "id": "cd077586-5ecd-477d-872b-4002835b2fe4",
   "metadata": {},
   "source": [
    "**Exercise 3.** Using the `state` attribute of your results, compute the fidelity between the state you obtained, and your original coherent state. The method [`fidelity_coherent`](https://strawberryfields.readthedocs.io/en/stable/code/api/strawberryfields.backends.BaseState.html#strawberryfields.backends.BaseState.fidelity_coherent) can be called using the state of your results. How high is the fidelity?"
   ]
  },
  {
   "cell_type": "code",
   "execution_count": null,
   "id": "3ecdc549-b2bb-4f5b-8253-70d2e02f3c2c",
   "metadata": {},
   "outputs": [],
   "source": []
  },
  {
   "cell_type": "markdown",
   "id": "07ed1159-ad0e-42f7-9da8-9ca515704fcc",
   "metadata": {},
   "source": [
    "**Exercise 4.** If you ran this a few times, you may have noticed that the results are probabilistic. Run the experiment 1000 times, and plot the distribution of fidelities; how does it look? What is the average fidelity?"
   ]
  },
  {
   "cell_type": "code",
   "execution_count": null,
   "id": "cc4d6dc0-a6b7-428d-b717-cd2da702c8d2",
   "metadata": {},
   "outputs": [],
   "source": []
  },
  {
   "cell_type": "markdown",
   "id": "7fe86a1f-9d80-46cb-8f9c-7caa69cfd71d",
   "metadata": {},
   "source": [
    "**Exercise 5.** The `state` attribute of the program results also allows you to  extract the $\\alpha$ of the output coherent state (the [displacement](https://strawberryfields.readthedocs.io/en/stable/code/api/strawberryfields.backends.BaseGaussianState.html#strawberryfields.backends.BaseGaussianState.displacement)). Run the program again 1000 times, and this time extract the displacement from each. Plot the real and complex valued parts of the resuls. What is the distribution, and how does it relate to your original $\\alpha_0$?"
   ]
  },
  {
   "cell_type": "code",
   "execution_count": null,
   "id": "a6708e03-4752-4e02-9e3a-10e498ca47ed",
   "metadata": {},
   "outputs": [],
   "source": []
  }
 ],
 "metadata": {
  "kernelspec": {
   "display_name": "Python 3 (ipykernel)",
   "language": "python",
   "name": "python3"
  },
  "language_info": {
   "codemirror_mode": {
    "name": "ipython",
    "version": 3
   },
   "file_extension": ".py",
   "mimetype": "text/x-python",
   "name": "python",
   "nbconvert_exporter": "python",
   "pygments_lexer": "ipython3",
   "version": "3.9.5"
  }
 },
 "nbformat": 4,
 "nbformat_minor": 5
}
